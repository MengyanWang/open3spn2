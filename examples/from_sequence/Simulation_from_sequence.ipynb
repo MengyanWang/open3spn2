{
 "cells": [
  {
   "cell_type": "markdown",
   "metadata": {
    "toc": true
   },
   "source": [
    "<h1>Table of Contents<span class=\"tocSkip\"></span></h1>\n",
    "<div class=\"toc\"><ul class=\"toc-item\"><li><span><a href=\"#Generate-atomistic-model\" data-toc-modified-id=\"Generate-atomistic-model-1\"><span class=\"toc-item-num\">1&nbsp;&nbsp;</span>Generate atomistic model</a></span></li></ul></div>"
   ]
  },
  {
   "cell_type": "markdown",
   "metadata": {},
   "source": [
    "## Generate atomistic model"
   ]
  },
  {
   "cell_type": "code",
   "execution_count": 1,
   "metadata": {},
   "outputs": [
    {
     "name": "stdout",
     "output_type": "stream",
     "text": [
      "Bond\n",
      "Angle\n",
      "Stacking\n",
      "Dihedral\n",
      "BasePair\n",
      "CrossStacking\n",
      "Exclusion\n",
      "Electrostatics\n"
     ]
    }
   ],
   "source": [
    "import open3SPN2\n",
    "\n",
    "# Initialize the DNA from a sequence.\n",
    "# DNA type can be changed to 'A' or 'B'\n",
    "\n",
    "seq='ATACAAAGGTGCGAGGTTTCTATGCTCCCACG'\n",
    "dna=open3SPN2.DNA.fromSequence(seq, dna_type='B_curved',output_pdb=f'initial.pdb')\n",
    "\n",
    "# Compute the topology for the DNA structure.\n",
    "# Since the dna was generated from the sequence using X3DNA,\n",
    "# it is not necesary to recompute the geometry.\n",
    "\n",
    "dna.computeTopology(template_from_X3DNA=False)\n",
    "\n",
    "# Create the system.\n",
    "# To set periodic boundary conditions (periodicBox=[50,50,50]).\n",
    "# The periodic box size is in nanometers.\n",
    "\n",
    "dna.periodic=False\n",
    "s=open3SPN2.System(dna, periodicBox=None)\n",
    "\n",
    "#Add 3SPN2 forces\n",
    "\n",
    "s.add3SPN2forces(verbose=True)\n"
   ]
  },
  {
   "cell_type": "code",
   "execution_count": 2,
   "metadata": {},
   "outputs": [],
   "source": [
    "import sys\n",
    "import simtk.openmm\n",
    "import simtk.openmm.app\n",
    "import simtk.unit\n",
    "import numpy as np\n",
    "\n",
    "#Initialize Molecular Dynamics simulations\n",
    "\n",
    "simulation_platform='OpenCL' #['Reference', 'CPU', 'OpenCL', 'CUDA']\n",
    "temperature=300 * simtk.unit.kelvin\n",
    "s.initializeMD(temperature=temperature,platform_name=simulation_platform)\n",
    "simulation=s.simulation\n",
    "\n",
    "#Set initial positions\n",
    "\n",
    "simulation.context.setPositions(s.coord.getPositions())"
   ]
  },
  {
   "cell_type": "code",
   "execution_count": 3,
   "metadata": {},
   "outputs": [
    {
     "name": "stdout",
     "output_type": "stream",
     "text": [
      "TotalEnergy -2062.062012 kJ/mol\n",
      "Bond 1.9e-05 kJ/mol\n",
      "Angle 0.001828 kJ/mol\n",
      "Stacking -611.880615 kJ/mol\n",
      "Dihedral -839.999756 kJ/mol\n",
      "BasePair -518.264954 kJ/mol\n",
      "CrossStacking -135.342407 kJ/mol\n",
      "Exclusion 0.119124 kJ/mol\n",
      "Electrostatics 43.304928 kJ/mol\n"
     ]
    }
   ],
   "source": [
    "#Obtain total energy\n",
    "\n",
    "energy_unit=simtk.openmm.unit.kilojoule_per_mole\n",
    "state = simulation.context.getState(getEnergy=True)\n",
    "energy = state.getPotentialEnergy().value_in_unit(energy_unit)\n",
    "print('TotalEnergy',round(energy,6),energy_unit.get_symbol())\n",
    "\n",
    "#Obtain detailed energy\n",
    "\n",
    "energies = {}\n",
    "for force_name, force in s.forces.items():\n",
    "    group=force.getForceGroup()\n",
    "    state = simulation.context.getState(getEnergy=True, groups=2**group)\n",
    "    energies[force_name] =state.getPotentialEnergy().value_in_unit(energy_unit)\n",
    "\n",
    "for force_name in s.forces.keys():\n",
    "    print(force_name, round(energies[force_name],6),energy_unit.get_symbol())"
   ]
  },
  {
   "cell_type": "code",
   "execution_count": 4,
   "metadata": {},
   "outputs": [],
   "source": [
    "#Add simulation reporters\n",
    "\n",
    "dcd_reporter=simtk.openmm.app.DCDReporter(f'output.dcd', 1000)\n",
    "energy_reporter=simtk.openmm.app.StateDataReporter(sys.stdout, 1000, step=True,time=True,\n",
    "                                                   potentialEnergy=True, temperature=True)\n",
    "simulation.reporters.append(dcd_reporter)\n",
    "simulation.reporters.append(energy_reporter)"
   ]
  },
  {
   "cell_type": "code",
   "execution_count": 5,
   "metadata": {},
   "outputs": [
    {
     "name": "stdout",
     "output_type": "stream",
     "text": [
      "#\"Step\",\"Time (ps)\",\"Potential Energy (kJ/mole)\",\"Temperature (K)\"\n",
      "1000,2.0000000000000013,-1609.2542724609375,291.3261017567158\n",
      "2000,3.999999999999781,-1695.6954345703125,293.06581680011357\n",
      "3000,5.999999999999561,-1648.60693359375,304.9602121834476\n",
      "4000,7.999999999999341,-1622.2606201171875,304.1871536375808\n",
      "5000,10.000000000000009,-1659.73779296875,304.52131917600116\n",
      "6000,12.000000000000677,-1608.83935546875,288.41397579784984\n",
      "7000,14.000000000001345,-1599.325927734375,301.84303004467523\n",
      "8000,16.00000000000201,-1624.1495361328125,335.3562976541329\n",
      "9000,18.000000000000902,-1675.728759765625,296.7163214929211\n",
      "10000,19.999999999999794,-1604.5899658203125,303.8170576793182\n"
     ]
    }
   ],
   "source": [
    "#Run simulation\n",
    "simulation.minimizeEnergy()\n",
    "simulation.context.setVelocitiesToTemperature(temperature)\n",
    "simulation.step(10000)"
   ]
  }
 ],
 "metadata": {
  "kernelspec": {
   "display_name": "Python 3",
   "language": "python",
   "name": "python3"
  },
  "language_info": {
   "codemirror_mode": {
    "name": "ipython",
    "version": 3
   },
   "file_extension": ".py",
   "mimetype": "text/x-python",
   "name": "python",
   "nbconvert_exporter": "python",
   "pygments_lexer": "ipython3",
   "version": "3.8.10"
  },
  "toc": {
   "base_numbering": 1,
   "nav_menu": {},
   "number_sections": true,
   "sideBar": true,
   "skip_h1_title": true,
   "title_cell": "Table of Contents",
   "title_sidebar": "Contents",
   "toc_cell": true,
   "toc_position": {
    "height": "calc(100% - 180px)",
    "left": "10px",
    "top": "150px",
    "width": "371px"
   },
   "toc_section_display": true,
   "toc_window_display": true
  }
 },
 "nbformat": 4,
 "nbformat_minor": 2
}
