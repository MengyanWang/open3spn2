{
 "cells": [
  {
   "cell_type": "markdown",
   "metadata": {
    "toc": true
   },
   "source": [
    "<h1>Table of Contents<span class=\"tocSkip\"></span></h1>\n",
    "<div class=\"toc\"><ul class=\"toc-item\"><li><span><a href=\"#Generate-atomistic-model\" data-toc-modified-id=\"Generate-atomistic-model-1\"><span class=\"toc-item-num\">1&nbsp;&nbsp;</span>Generate atomistic model</a></span></li><li><span><a href=\"#Convert-the-model-to-3SPN\" data-toc-modified-id=\"Convert-the-model-to-3SPN-2\"><span class=\"toc-item-num\">2&nbsp;&nbsp;</span>Convert the model to 3SPN</a></span></li></ul></div>"
   ]
  },
  {
   "cell_type": "markdown",
   "metadata": {},
   "source": [
    "## Generate atomistic model"
   ]
  },
  {
   "cell_type": "code",
   "execution_count": 1,
   "metadata": {},
   "outputs": [
    {
     "name": "stderr",
     "output_type": "stream",
     "text": [
      "/home/cab22/Programs/anaconda3/envs/py36/lib/python3.6/site-packages/pandas/core/indexing.py:480: SettingWithCopyWarning: \n",
      "A value is trying to be set on a copy of a slice from a DataFrame.\n",
      "Try using .loc[row_indexer,col_indexer] = value instead\n",
      "\n",
      "See the caveats in the documentation: http://pandas.pydata.org/pandas-docs/stable/user_guide/indexing.html#returning-a-view-versus-a-copy\n",
      "  self.obj[item] = s\n"
     ]
    },
    {
     "name": "stdout",
     "output_type": "stream",
     "text": [
      "Periodic boundary conditions not defined, system would be non periodic\n",
      "Bond\n",
      "Angle\n",
      "Stacking\n",
      "Dihedral\n",
      "BasePair\n",
      "CrossStacking\n",
      "Exclusion\n",
      "Electrostatics\n",
      "77.8 0.974998211\n",
      "0.94856634121177 nm 3.5975908035210326e-70 mol C**2 F/m\n"
     ]
    }
   ],
   "source": [
    "import sys\n",
    "\n",
    "#Include the module in the python path\n",
    "sys.path.insert(0, '../../../open3SPN2')\n",
    "import ff3SPN2\n",
    "\n",
    "#Reload the module (only necessary if the module has recently changed)\n",
    "import importlib\n",
    "importlib.reload(ff3SPN2)\n",
    "\n",
    "#The default type is B_curved (3SPN2.C) but it is also possible to change the type to A or B (3SPN2)\n",
    "dna=ff3SPN2.DNA.fromSequence('ATACAAAGGTGCGAGGTTTCTATGCTCCCACG',dna_type='B_curved')\n",
    "dna.computeTopology()\n",
    "#Create the system\n",
    "s=ff3SPN2.System(dna)\n",
    "\n",
    "#Clear Forces\n",
    "s.clearForces()\n",
    "#s.top.topology.setUnitCellDimensions([50,50,50])\n",
    "#s.setDefaultPeriodicBoxVectors([100,0,0],[0,100,0],[0,0,100])\n",
    "\n",
    "#Add 3SPN2 forces\n",
    "s.add3SPN2forces()\n"
   ]
  },
  {
   "cell_type": "code",
   "execution_count": 2,
   "metadata": {},
   "outputs": [
    {
     "name": "stdout",
     "output_type": "stream",
     "text": [
      "-1393.5015869140625\n"
     ]
    }
   ],
   "source": [
    "#Set up the simulation\n",
    "import simtk.openmm\n",
    "import simtk.openmm.app\n",
    "import simtk.unit\n",
    "temperature=300 * simtk.openmm.unit.kelvin\n",
    "platform_name='OpenCL'\n",
    "\n",
    "integrator = simtk.openmm.LangevinIntegrator(temperature, 5 / simtk.openmm.unit.picosecond, 2 * simtk.openmm.unit.femtoseconds)\n",
    "platform = simtk.openmm.Platform.getPlatformByName(platform_name)\n",
    "simulation = simtk.openmm.app.Simulation(s.top,s, integrator,platform)\n",
    "simulation.context.setPositions(s.coord.getPositions())\n",
    "energy_unit=simtk.openmm.unit.kilojoule_per_mole\n",
    "state = simulation.context.getState(getEnergy=True)\n",
    "energy = state.getPotentialEnergy().value_in_unit(energy_unit)\n",
    "print(energy)\n",
    "#simulation.reporters.append(simtk.openmm.app.PDBReporter(f'output.pdb', 1000),)\n",
    "simulation.reporters.append(simtk.openmm.app.DCDReporter(f'output.dcd', 1000),)\n",
    "#sim_out=open('sim_out.txt','w+')\n",
    "simulation.reporters.append(simtk.openmm.app.StateDataReporter(sys.stdout, 1000, step=True,time=True,potentialEnergy=True, temperature=True,separator='\\t',))\n",
    "simulation.reporters.append(simtk.openmm.app.StateDataReporter('sim.log', 1000, step=True,time=True,totalEnergy=True,\n",
    "                                              kineticEnergy=True,potentialEnergy=True, temperature=True))"
   ]
  },
  {
   "cell_type": "code",
   "execution_count": 3,
   "metadata": {},
   "outputs": [
    {
     "name": "stdout",
     "output_type": "stream",
     "text": [
      "TotalEnergy -1393.5015869140625\n",
      "Bond 6 4.8611113655745505e-06\n",
      "Angle 7 0.00051294794452179\n",
      "Stacking 8 -142.54506915294874\n",
      "Dihedral 9 -200.7647745923832\n",
      "BasePair 10 0.8711880981124381\n",
      "CrossStacking 11 -1.31967509909752\n",
      "Exclusion 12 0.028444126419309903\n",
      "Electrostatics 13 10.674528592403258\n"
     ]
    }
   ],
   "source": [
    "#Obtain first energies\n",
    "state = simulation.context.getState(getEnergy=True)\n",
    "energy = state.getPotentialEnergy().value_in_unit(energy_unit)\n",
    "print('TotalEnergy',energy)\n",
    "energies = {}\n",
    "for f, i in s.force_groups.items():\n",
    "    energies[f] = simulation.context.getState(getEnergy=True, groups=2**i).getPotentialEnergy().value_in_unit(energy_unit)\n",
    "\n",
    "for idd in s.force_groups.keys():\n",
    "    print(idd,s.force_groups[idd],energies[idd] /4.184)"
   ]
  },
  {
   "cell_type": "code",
   "execution_count": 4,
   "metadata": {},
   "outputs": [
    {
     "name": "stdout",
     "output_type": "stream",
     "text": [
      "#\"Step\"\t\"Time (ps)\"\t\"Potential Energy (kJ/mole)\"\t\"Temperature (K)\"\n",
      "1000\t2.0000000000000013\t-978.7445068359375\t298.8436501943973\n",
      "2000\t3.999999999999781\t-966.2251586914062\t282.4174682602728\n",
      "3000\t5.999999999999561\t-958.535888671875\t286.1488964753857\n",
      "4000\t7.999999999999341\t-960.2212524414062\t342.39440859170656\n",
      "5000\t10.000000000000009\t-995.435791015625\t318.5110065206065\n",
      "6000\t12.000000000000677\t-1026.7757568359375\t290.05133035185526\n",
      "7000\t14.000000000001345\t-985.9140014648438\t309.1652887410555\n",
      "8000\t16.00000000000201\t-949.3331298828125\t345.32774514691414\n",
      "9000\t18.000000000000902\t-925.3999633789062\t315.83702683866795\n",
      "10000\t19.999999999999794\t-932.562255859375\t349.8167368552949\n",
      "TotalEnergy -932.562255859375\n",
      "Bond 6 26.477171859595334\n",
      "Angle 7 71.93521970088806\n",
      "Stacking 8 -151.3200107085773\n",
      "Dihedral 9 -178.00442347335084\n",
      "BasePair 10 0.507209656571339\n",
      "CrossStacking 11 -3.141594206625827\n",
      "Exclusion 12 0.18693646327031502\n",
      "Electrostatics 13 10.471741510394882\n"
     ]
    }
   ],
   "source": [
    "#Run simulation\n",
    "simulation.minimizeEnergy()\n",
    "simulation.context.setVelocitiesToTemperature(temperature)\n",
    "simulation.step(10000)\n",
    "#Obtain first energies\n",
    "state = simulation.context.getState(getEnergy=True)\n",
    "energy = state.getPotentialEnergy().value_in_unit(energy_unit)\n",
    "print('TotalEnergy',energy)\n",
    "energies = {}\n",
    "for f, i in s.force_groups.items():\n",
    "    energies[f] = simulation.context.getState(getEnergy=True, groups=2**i).getPotentialEnergy().value_in_unit(energy_unit)\n",
    "\n",
    "for idd in s.force_groups.keys():\n",
    "    print(idd,s.force_groups[idd],energies[idd] /4.184)"
   ]
  },
  {
   "cell_type": "code",
   "execution_count": null,
   "metadata": {},
   "outputs": [],
   "source": []
  }
 ],
 "metadata": {
  "kernelspec": {
   "display_name": "Python 3",
   "language": "python",
   "name": "python3"
  },
  "language_info": {
   "codemirror_mode": {
    "name": "ipython",
    "version": 3
   },
   "file_extension": ".py",
   "mimetype": "text/x-python",
   "name": "python",
   "nbconvert_exporter": "python",
   "pygments_lexer": "ipython3",
   "version": "3.6.7"
  },
  "toc": {
   "base_numbering": 1,
   "nav_menu": {},
   "number_sections": true,
   "sideBar": true,
   "skip_h1_title": true,
   "title_cell": "Table of Contents",
   "title_sidebar": "Contents",
   "toc_cell": true,
   "toc_position": {
    "height": "calc(100% - 180px)",
    "left": "10px",
    "top": "150px",
    "width": "371px"
   },
   "toc_section_display": true,
   "toc_window_display": true
  }
 },
 "nbformat": 4,
 "nbformat_minor": 2
}
