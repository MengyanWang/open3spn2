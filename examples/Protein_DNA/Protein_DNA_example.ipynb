{
 "cells": [
  {
   "cell_type": "code",
   "execution_count": 1,
   "metadata": {},
   "outputs": [],
   "source": [
    "import open3SPN2\n",
    "import ffAWSEM"
   ]
  },
  {
   "cell_type": "code",
   "execution_count": 2,
   "metadata": {},
   "outputs": [],
   "source": [
    "#Fix the system (adds missing atoms)\n",
    "fix=open3SPN2.fixPDB(\"1lmb.pdb\")"
   ]
  },
  {
   "cell_type": "code",
   "execution_count": 3,
   "metadata": {},
   "outputs": [],
   "source": [
    "#Create a table containing both the proteins and the DNA\n",
    "complex_table=open3SPN2.pdb2table(fix)"
   ]
  },
  {
   "cell_type": "code",
   "execution_count": 4,
   "metadata": {},
   "outputs": [],
   "source": [
    "#Coarse Grain the system\n",
    "dna_atoms=open3SPN2.DNA.CoarseGrain(complex_table)\n",
    "protein_atoms=ffAWSEM.Protein.CoarseGrain(complex_table)"
   ]
  },
  {
   "cell_type": "code",
   "execution_count": 5,
   "metadata": {},
   "outputs": [],
   "source": [
    "#Merge the models\n",
    "import pandas\n",
    "Coarse=pandas.concat([protein_atoms,dna_atoms],sort=False)\n",
    "Coarse.index=range(len(Coarse))\n",
    "Coarse.serial=list(Coarse.index)"
   ]
  },
  {
   "cell_type": "code",
   "execution_count": 6,
   "metadata": {},
   "outputs": [],
   "source": [
    "#Save the protein_sequence\n",
    "from Bio.PDB.Polypeptide import three_to_one\n",
    "_AWSEMresidues=['IPR','IGL','NGP']\n",
    "protein_data=Coarse[Coarse.resname.isin(_AWSEMresidues)].copy()\n",
    "resix = (protein_data.chainID + '_' + protein_data.resSeq.astype(str))\n",
    "res_unique = resix.unique()\n",
    "protein_data['resID'] = resix.replace(dict(zip(res_unique, range(len(res_unique)))))\n",
    "protein_sequence=[r.iloc[0]['real_resname'] for i, r in protein_data.groupby('resID')]\n",
    "protein_sequence_one = [three_to_one(a) for a in protein_sequence]\n",
    "\n",
    "with open('protein.seq','w+') as ps:\n",
    "    ps.write(''.join(protein_sequence_one))"
   ]
  },
  {
   "cell_type": "code",
   "execution_count": 7,
   "metadata": {},
   "outputs": [],
   "source": [
    "# Create a merged PDB\n",
    "def writePDB(atoms,pdb_file):\n",
    "    with open(pdb_file, 'w+') as pdb:\n",
    "        for i, atom in atoms.iterrows():\n",
    "            pdb_line = f'{atom.recname:<6}{atom.serial:>5} {atom[\"name\"]:^4}{atom.altLoc:1}'+\\\n",
    "                       f'{atom.resname:<3} {atom.chainID:1}{atom.resSeq:>4}{atom.iCode:1}   '+\\\n",
    "                       f'{atom.x:>8.3f}{atom.y:>8.3f}{atom.z:>8.3f}' +\\\n",
    "                       f'{atom.occupancy:>6.2f}{atom.occupancy:>6.2f}'+' ' * 10 +\\\n",
    "                       f'{atom.element:>2}{atom.charge:>2}'\n",
    "            assert len(pdb_line) == 80, f'An item in the atom table is longer than expected ({len(pdb_line)})\\n{pdb_line}'\n",
    "            pdb.write(pdb_line + '\\n')\n",
    "writePDB(Coarse,'clean.pdb')"
   ]
  },
  {
   "cell_type": "code",
   "execution_count": 8,
   "metadata": {},
   "outputs": [],
   "source": [
    "#Create the merged system\n",
    "import simtk.openmm\n",
    "pdb=simtk.openmm.app.PDBFile('clean.pdb')\n",
    "top=pdb.topology\n",
    "coord=pdb.positions\n",
    "forcefield=simtk.openmm.app.ForceField(ffAWSEM.xml,open3SPN2.xml)\n",
    "s=forcefield.createSystem(top)"
   ]
  },
  {
   "cell_type": "code",
   "execution_count": 9,
   "metadata": {},
   "outputs": [],
   "source": [
    "dna=open3SPN2.DNA.fromCoarsePDB('clean.pdb')\n",
    "with open('protein.seq') as ps:\n",
    "    protein_sequence_one=ps.readlines()[0]\n",
    "protein=ffAWSEM.Protein.fromCoarsePDB('clean.pdb',sequence=protein_sequence_one)\n",
    "dna.periodic=False\n",
    "protein.periodic=False"
   ]
  },
  {
   "cell_type": "code",
   "execution_count": 10,
   "metadata": {},
   "outputs": [],
   "source": [
    "ffAWSEM.copy_parameter_files()"
   ]
  },
  {
   "cell_type": "code",
   "execution_count": 11,
   "metadata": {},
   "outputs": [
    {
     "name": "stdout",
     "output_type": "stream",
     "text": [
      "Bond\n",
      "Angle\n",
      "Stacking\n",
      "Dihedral\n",
      "BasePair\n",
      "CrossStacking\n",
      "Exclusion\n",
      "Electrostatics\n",
      "Connectivity\n",
      "Chain\n",
      "Chi\n",
      "Excl\n",
      "1205\n",
      "1844\n",
      "rama\n",
      "rama_pro\n",
      "contact\n",
      "Number of atom:  1171 Number of residue:  179\n",
      "Contact cutoff  1.0 nm\n",
      "NonbondedMethod:  1\n",
      "0\n",
      "639\n",
      "beta1\n",
      "beta_1 term ON\n",
      "beta2\n",
      "beta_2 term ON\n",
      "beta3\n",
      "beta_3 term ON\n",
      "pap1\n",
      "pap_1 term ON\n",
      "No ssweight given, assume all zero\n",
      "pap2\n",
      "pap_2 term ON\n",
      "No ssweight given, assume all zero\n",
      "ExclusionProteinDNA\n",
      "ElectrostaticsProteinDNA\n"
     ]
    }
   ],
   "source": [
    "#Clear Forces from the system\n",
    "keepCMMotionRemover=True\n",
    "j=0\n",
    "for i, f in enumerate(s.getForces()):\n",
    "    if keepCMMotionRemover and i == 0 and f.__class__ == simtk.openmm.CMMotionRemover:\n",
    "        # print('Kept ', f.__class__)\n",
    "        j += 1\n",
    "        continue\n",
    "    else:\n",
    "        # print('Removed ', f.__class__)\n",
    "        s.removeForce(j)\n",
    "if keepCMMotionRemover == False:\n",
    "    assert len(s.getForces()) == 0, 'Not all the forces were removed'\n",
    "else:\n",
    "    assert len(s.getForces()) <= 1, 'Not all the forces were removed'\n",
    "forces={}\n",
    "for i in range(s.getNumForces()):\n",
    "    force = s.getForce(i)\n",
    "    force_name=\"CMMotionRemover\"\n",
    "\n",
    "#Add 3SPN2 forces\n",
    "for force_name in open3SPN2.forces:\n",
    "    print(force_name)\n",
    "    force = open3SPN2.forces[force_name](dna)\n",
    "    if force_name in ['BasePair','CrossStacking']:\n",
    "        force.addForce(s)\n",
    "    else:\n",
    "        s.addForce(force)\n",
    "    forces.update({force_name: force})\n",
    "\n",
    "#Add AWSEM forces\n",
    "openAWSEMforces = dict(Connectivity=ffAWSEM.functionTerms.basicTerms.con_term,\n",
    "                       Chain=ffAWSEM.functionTerms.basicTerms.chain_term,\n",
    "                       Chi=ffAWSEM.functionTerms.basicTerms.chi_term,\n",
    "                       Excl=ffAWSEM.functionTerms.basicTerms.excl_term,\n",
    "                       rama=ffAWSEM.functionTerms.basicTerms.rama_term,\n",
    "                       rama_pro=ffAWSEM.functionTerms.basicTerms.rama_proline_term,\n",
    "                       #rama_ss=ffAWSEM.functionTerms.basicTerms.rama_ssweight_term,\n",
    "                       contact=ffAWSEM.functionTerms.contactTerms.contact_term,\n",
    "                       beta1 = ffAWSEM.functionTerms.hydrogenBondTerms.beta_term_1,\n",
    "                       beta2 = ffAWSEM.functionTerms.hydrogenBondTerms.beta_term_2,\n",
    "                       beta3 = ffAWSEM.functionTerms.hydrogenBondTerms.beta_term_3,\n",
    "                       pap1 = ffAWSEM.functionTerms.hydrogenBondTerms.pap_term_1,\n",
    "                       pap2 = ffAWSEM.functionTerms.hydrogenBondTerms.pap_term_2,\n",
    "                      )\n",
    "protein.setup_virtual_sites(s)\n",
    "for force_name in openAWSEMforces:\n",
    "    print(force_name)\n",
    "    if force_name in ['contact']:\n",
    "        force = openAWSEMforces[force_name](protein, withExclusion=False,periodic=False)\n",
    "        print(force.getNumExclusions())\n",
    "        open3SPN2.addNonBondedExclusions(dna,force)\n",
    "        print(force.getNumExclusions())\n",
    "    elif force_name in ['Excl']:\n",
    "        force = openAWSEMforces[force_name](protein)\n",
    "        print(force.getNumExclusions())\n",
    "        open3SPN2.addNonBondedExclusions(dna,force)\n",
    "        print(force.getNumExclusions())\n",
    "    else:\n",
    "        force = openAWSEMforces[force_name](protein)\n",
    "    s.addForce(force)\n",
    "    forces.update({force_name: force})\n",
    "\n",
    "#Add DNA-protein interaction forces\n",
    "for force_name in open3SPN2.protein_dna_forces:\n",
    "    print(force_name)\n",
    "    force = open3SPN2.protein_dna_forces[force_name](dna,protein)\n",
    "    s.addForce(force)\n",
    "    forces.update({force_name: force})"
   ]
  },
  {
   "cell_type": "code",
   "execution_count": 12,
   "metadata": {},
   "outputs": [
    {
     "name": "stdout",
     "output_type": "stream",
     "text": [
      "-1406.7860107421875\n"
     ]
    }
   ],
   "source": [
    "import numpy as np\n",
    "temperature=300 * simtk.openmm.unit.kelvin\n",
    "#platform_name='CUDA'\n",
    "platform_name='OpenCL'\n",
    "\n",
    "integrator = simtk.openmm.LangevinIntegrator(temperature, 1 / simtk.openmm.unit.picosecond, 2 * simtk.openmm.unit.femtoseconds)\n",
    "platform = simtk.openmm.Platform.getPlatformByName(platform_name)\n",
    "simulation = simtk.openmm.app.Simulation(top,s, integrator, platform)\n",
    "simulation.context.setPositions(coord)\n",
    "energy_unit=simtk.openmm.unit.kilojoule_per_mole\n",
    "state = simulation.context.getState(getEnergy=True)\n",
    "energy = state.getPotentialEnergy().value_in_unit(energy_unit)\n",
    "print(energy)"
   ]
  },
  {
   "cell_type": "code",
   "execution_count": 13,
   "metadata": {},
   "outputs": [
    {
     "name": "stdout",
     "output_type": "stream",
     "text": [
      "TotalEnergy -1406.786011 kJ/mol\n",
      "Bond 0.0 kJ/mol\n",
      "Angle 0.0 kJ/mol\n",
      "Stacking 203.56601 kJ/mol\n",
      "Dihedral -503.999969 kJ/mol\n",
      "BasePair -284.232208 kJ/mol\n",
      "CrossStacking -47.58614 kJ/mol\n",
      "Exclusion 23.991552 kJ/mol\n",
      "Electrostatics 23.268291 kJ/mol\n",
      "Connectivity 1899.296875 kJ/mol\n",
      "Chain 1899.296875 kJ/mol\n",
      "Chi 1899.296875 kJ/mol\n",
      "Excl 1899.296875 kJ/mol\n",
      "rama -1363.522705 kJ/mol\n",
      "rama_pro -1363.522705 kJ/mol\n",
      "contact -1041.547729 kJ/mol\n",
      "beta1 -601.593384 kJ/mol\n",
      "beta2 -601.593384 kJ/mol\n",
      "beta3 -601.593384 kJ/mol\n",
      "pap1 0.0 kJ/mol\n",
      "pap2 0.0 kJ/mol\n",
      "ExclusionProteinDNA 296.033478 kJ/mol\n",
      "ElectrostaticsProteinDNA -10.459808 kJ/mol\n"
     ]
    }
   ],
   "source": [
    "#Obtain total energy\n",
    "\n",
    "energy_unit=simtk.openmm.unit.kilojoule_per_mole\n",
    "state = simulation.context.getState(getEnergy=True)\n",
    "energy = state.getPotentialEnergy().value_in_unit(energy_unit)\n",
    "print('TotalEnergy',round(energy,6),energy_unit.get_symbol())\n",
    "\n",
    "#Obtain detailed energy\n",
    "\n",
    "energies = {}\n",
    "for force_name, force in forces.items():\n",
    "    group=force.getForceGroup()\n",
    "    state = simulation.context.getState(getEnergy=True, groups=2**group)\n",
    "    energies[force_name] =state.getPotentialEnergy().value_in_unit(energy_unit)\n",
    "\n",
    "for force_name in forces.keys():\n",
    "    print(force_name, round(energies[force_name],6),energy_unit.get_symbol())"
   ]
  },
  {
   "cell_type": "code",
   "execution_count": 14,
   "metadata": {},
   "outputs": [],
   "source": [
    "#Add simulation reporters\n",
    "import sys\n",
    "dcd_reporter=simtk.openmm.app.DCDReporter(f'output.dcd', 1000)\n",
    "energy_reporter=simtk.openmm.app.StateDataReporter(sys.stdout, 1000, step=True,time=True,\n",
    "                                                   potentialEnergy=True, temperature=True)\n",
    "simulation.reporters.append(dcd_reporter)\n",
    "simulation.reporters.append(energy_reporter)"
   ]
  },
  {
   "cell_type": "code",
   "execution_count": 15,
   "metadata": {},
   "outputs": [
    {
     "name": "stdout",
     "output_type": "stream",
     "text": [
      "#\"Step\",\"Time (ps)\",\"Potential Energy (kJ/mole)\",\"Temperature (K)\"\n",
      "1000,2.0000000000000013,-2871.327392578125,302.8011877545486\n",
      "2000,3.999999999999781,-2718.3193359375,318.43385641849216\n",
      "3000,5.999999999999561,-2645.3271484375,314.85239936401825\n",
      "4000,7.999999999999341,-2528.663818359375,314.4866550405818\n",
      "5000,10.000000000000009,-2543.172119140625,311.4567079594688\n",
      "6000,12.000000000000677,-2666.331787109375,315.06314838683306\n",
      "7000,14.000000000001345,-2676.33349609375,297.864650999422\n",
      "8000,16.00000000000201,-2693.47607421875,322.7004726506672\n",
      "9000,18.000000000000902,-2544.7265625,311.963460327163\n",
      "10000,19.999999999999794,-2654.55224609375,320.08862556877506\n"
     ]
    }
   ],
   "source": [
    "#Run simulation\n",
    "simulation.minimizeEnergy()\n",
    "simulation.context.setVelocitiesToTemperature(temperature)\n",
    "simulation.step(10000)"
   ]
  }
 ],
 "metadata": {
  "kernelspec": {
   "display_name": "Python 3",
   "language": "python",
   "name": "python3"
  },
  "language_info": {
   "codemirror_mode": {
    "name": "ipython",
    "version": 3
   },
   "file_extension": ".py",
   "mimetype": "text/x-python",
   "name": "python",
   "nbconvert_exporter": "python",
   "pygments_lexer": "ipython3",
   "version": "3.6.10"
  }
 },
 "nbformat": 4,
 "nbformat_minor": 4
}
