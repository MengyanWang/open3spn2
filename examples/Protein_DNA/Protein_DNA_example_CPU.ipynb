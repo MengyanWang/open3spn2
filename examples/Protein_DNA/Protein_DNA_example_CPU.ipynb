{
 "cells": [
  {
   "cell_type": "code",
   "execution_count": 1,
   "metadata": {},
   "outputs": [],
   "source": [
    "# If you want to specify the package address\n",
    "# you can add them to the PYTHONPATH environment variable.\n",
    "# Also you can add them on the run time uncommenting the lines below\n",
    "# import sys\n",
    "# open3SPN2_HOME = '/Users/weilu/open3spn2/'\n",
    "# openAWSEM_HOME = '/Users/weilu/openmmawsem/'\n",
    "# sys.path.insert(0,open3SPN2_HOME)\n",
    "# sys.path.insert(0,openAWSEM_HOME)"
   ]
  },
  {
   "cell_type": "code",
   "execution_count": 2,
   "metadata": {},
   "outputs": [],
   "source": [
    "#Import openAWSEM, open3SPN2 and other libraries\n",
    "import open3SPN2\n",
    "import ffAWSEM\n",
    "\n",
    "import pandas\n",
    "import numpy as np\n",
    "import simtk.openmm\n",
    "\n",
    "from functools import partial\n",
    "import sys"
   ]
  },
  {
   "cell_type": "code",
   "execution_count": 3,
   "metadata": {},
   "outputs": [],
   "source": [
    "#Fix the system (adds missing atoms)\n",
    "fix=open3SPN2.fixPDB(\"1lmb.pdb\")"
   ]
  },
  {
   "cell_type": "code",
   "execution_count": 4,
   "metadata": {},
   "outputs": [
    {
     "name": "stdout",
     "output_type": "stream",
     "text": [
      "chain A is a DNA chain. it will be removed\n",
      "chain B is a DNA chain. it will be removed\n",
      "C 87\n",
      "D 92\n"
     ]
    },
    {
     "name": "stderr",
     "output_type": "stream",
     "text": [
      "/home/cab22/anaconda3/envs/open3SPN2dev/lib/python3.8/site-packages/Bio/PDB/PDBParser.py:395: PDBConstructionWarning: Ignoring unrecognized record 'END' at line 4071\n",
      "  warnings.warn(\n"
     ]
    }
   ],
   "source": [
    "#Create a table containing both the proteins and the DNA\n",
    "complex_table=open3SPN2.pdb2table(fix)\n",
    "\n",
    "# Create a single memory file\n",
    "ffAWSEM.create_single_memory(fix)"
   ]
  },
  {
   "cell_type": "code",
   "execution_count": 5,
   "metadata": {},
   "outputs": [],
   "source": [
    "#Generate a coarse-grained model of the DNA molecules\n",
    "dna_atoms=open3SPN2.DNA.CoarseGrain(complex_table)\n",
    "\n",
    "#Generate a coarse-grained model of the Protein molecules\n",
    "protein_atoms=ffAWSEM.Protein.CoarseGrain(complex_table)"
   ]
  },
  {
   "cell_type": "code",
   "execution_count": 6,
   "metadata": {},
   "outputs": [],
   "source": [
    "#Merge the models\n",
    "Coarse=pandas.concat([protein_atoms,dna_atoms],sort=False)\n",
    "Coarse.index=range(len(Coarse))\n",
    "Coarse['serial']=list(Coarse.index)"
   ]
  },
  {
   "cell_type": "code",
   "execution_count": 7,
   "metadata": {},
   "outputs": [],
   "source": [
    "#Save the protein_sequence\n",
    "ffAWSEM.save_protein_sequence(Coarse,sequence_file='protein.seq')"
   ]
  },
  {
   "cell_type": "code",
   "execution_count": 8,
   "metadata": {},
   "outputs": [],
   "source": [
    "# Create a merged PDB\n",
    "ffAWSEM.writePDB(Coarse,'clean.pdb')"
   ]
  },
  {
   "cell_type": "code",
   "execution_count": 9,
   "metadata": {},
   "outputs": [],
   "source": [
    "#Create the merged system\n",
    "\n",
    "pdb=simtk.openmm.app.PDBFile('clean.pdb')\n",
    "top=pdb.topology\n",
    "coord=pdb.positions\n",
    "forcefield=simtk.openmm.app.ForceField(ffAWSEM.xml,open3SPN2.xml)\n",
    "s=forcefield.createSystem(top)"
   ]
  },
  {
   "cell_type": "code",
   "execution_count": 10,
   "metadata": {},
   "outputs": [],
   "source": [
    "#Create the DNA and Protein Objects\n",
    "dna=open3SPN2.DNA.fromCoarsePDB('clean.pdb')\n",
    "dna.computeTopology(template_from_X3DNA=True)\n",
    "with open('protein.seq') as ps:\n",
    "    protein_sequence_one=ps.readlines()[0]\n",
    "protein=ffAWSEM.Protein.fromCoarsePDB('clean.pdb',sequence=protein_sequence_one)\n",
    "dna.periodic=False\n",
    "protein.periodic=False"
   ]
  },
  {
   "cell_type": "code",
   "execution_count": 11,
   "metadata": {},
   "outputs": [],
   "source": [
    "#Copy the AWSEM parameter files\n",
    "ffAWSEM.copy_parameter_files()"
   ]
  },
  {
   "cell_type": "code",
   "execution_count": 12,
   "metadata": {},
   "outputs": [],
   "source": [
    "#Clear Forces from the system\n",
    "keepCMMotionRemover=True\n",
    "j=0\n",
    "for i, f in enumerate(s.getForces()):\n",
    "    if keepCMMotionRemover and i == 0 and f.__class__ == simtk.openmm.CMMotionRemover:\n",
    "        # print('Kept ', f.__class__)\n",
    "        j += 1\n",
    "        continue\n",
    "    else:\n",
    "        # print('Removed ', f.__class__)\n",
    "        s.removeForce(j)\n",
    "if keepCMMotionRemover == False:\n",
    "    assert len(s.getForces()) == 0, 'Not all the forces were removed'\n",
    "else:\n",
    "    assert len(s.getForces()) <= 1, 'Not all the forces were removed'\n"
   ]
  },
  {
   "cell_type": "code",
   "execution_count": 13,
   "metadata": {},
   "outputs": [
    {
     "name": "stdout",
     "output_type": "stream",
     "text": [
      "Bond\n",
      "Angle\n",
      "Stacking\n",
      "Dihedral\n",
      "BasePair\n",
      "CrossStacking\n",
      "Exclusion\n",
      "Electrostatics\n",
      "ExclusionProteinDNA\n",
      "ElectrostaticsProteinDNA\n",
      "Connectivity\n",
      "Chain\n",
      "Chi\n",
      "Excl\n",
      "0\n",
      "639\n",
      "rama\n",
      "rama_pro\n",
      "contact\n",
      "Number of atom:  1171 Number of residue:  179\n",
      "Contact cutoff  1.0 nm\n",
      "NonbondedMethod:  1\n",
      "670096\n",
      "670096\n",
      "frag\n",
      "Loading Fragment files(Gro files)\n",
      "Saving fragment table as npy file to speed up future calculation.\n",
      "All gro files information have been stored in the ./single_frags.npy.             \n",
      "You might want to set the 'UseSavedFragTable'=True to speed up the loading next time.             \n",
      "But be sure to remove the .npy file if you modify the .mem file. otherwise it will keep using the old frag memeory.\n",
      "beta1\n",
      "beta_1 term ON\n",
      "beta2\n",
      "beta_2 term ON\n"
     ]
    },
    {
     "name": "stderr",
     "output_type": "stream",
     "text": [
      "/home/cab22/anaconda3/envs/open3SPN2dev/lib/python3.8/site-packages/numpy/core/_asarray.py:171: VisibleDeprecationWarning: Creating an ndarray from ragged nested sequences (which is a list-or-tuple of lists-or-tuples-or ndarrays with different lengths or shapes) is deprecated. If you meant to do this, you must specify 'dtype=object' when creating the ndarray.\n",
      "  return array(a, dtype, copy=False, order=order, subok=True)\n"
     ]
    },
    {
     "name": "stdout",
     "output_type": "stream",
     "text": [
      "beta3\n",
      "beta_3 term ON\n",
      "pap1\n",
      "pap_1 term ON\n",
      "No ssweight given, assume all zero\n",
      "pap2\n",
      "pap_2 term ON\n",
      "No ssweight given, assume all zero\n"
     ]
    }
   ],
   "source": [
    "#Initialize the force dictionary    \n",
    "forces={}\n",
    "for i in range(s.getNumForces()):\n",
    "    force = s.getForce(i)\n",
    "    force_name=\"CMMotionRemover\"\n",
    "\n",
    "#Add 3SPN2 forces\n",
    "for force_name in open3SPN2.forces:\n",
    "    print(force_name)\n",
    "    force = open3SPN2.forces[force_name](dna)\n",
    "    if force_name in ['BasePair','CrossStacking']:\n",
    "        force.addForce(s)\n",
    "    else:\n",
    "        s.addForce(force)\n",
    "    forces.update({force_name:force})\n",
    "\n",
    "#Add AWSEM forces\n",
    "openAWSEMforces = dict(Connectivity=ffAWSEM.functionTerms.basicTerms.con_term,\n",
    "                       Chain=ffAWSEM.functionTerms.basicTerms.chain_term,\n",
    "                       Chi=ffAWSEM.functionTerms.basicTerms.chi_term,\n",
    "                       Excl=ffAWSEM.functionTerms.basicTerms.excl_term_v2,\n",
    "                       rama=ffAWSEM.functionTerms.basicTerms.rama_term,\n",
    "                       rama_pro=ffAWSEM.functionTerms.basicTerms.rama_proline_term,\n",
    "                       contact=ffAWSEM.functionTerms.contactTerms.contact_term,\n",
    "                       frag  = partial(ffAWSEM.functionTerms.templateTerms.fragment_memory_term, \n",
    "                                       frag_file_list_file=\"./single_frags.mem\", \n",
    "                                       npy_frag_table=\"./single_frags.npy\", \n",
    "                                       UseSavedFragTable=False, \n",
    "                                       k_fm=0.04184/3),\n",
    "                       beta1 = ffAWSEM.functionTerms.hydrogenBondTerms.beta_term_1,\n",
    "                       beta2 = ffAWSEM.functionTerms.hydrogenBondTerms.beta_term_2,\n",
    "                       beta3 = ffAWSEM.functionTerms.hydrogenBondTerms.beta_term_3,\n",
    "                       pap1 = ffAWSEM.functionTerms.hydrogenBondTerms.pap_term_1,\n",
    "                       pap2 = ffAWSEM.functionTerms.hydrogenBondTerms.pap_term_2,\n",
    "                      )\n",
    "protein.setup_virtual_sites(s)\n",
    "\n",
    "#Add DNA-protein interaction forces\n",
    "for force_name in open3SPN2.protein_dna_forces:\n",
    "    print(force_name)\n",
    "    force = open3SPN2.protein_dna_forces[force_name](dna,protein)\n",
    "    s.addForce(force)\n",
    "    forces.update({force_name: force})\n",
    "\n",
    "#Fix exclussions\n",
    "for force_name in openAWSEMforces:\n",
    "    print(force_name)\n",
    "    if force_name in ['contact']:\n",
    "        force = openAWSEMforces[force_name](protein, withExclusion=True,periodic=False)\n",
    "        print(force.getNumExclusions())\n",
    "        #open3SPN2.addNonBondedExclusions(dna,force)\n",
    "        print(force.getNumExclusions())\n",
    "    elif force_name in ['Excl']:\n",
    "        force = openAWSEMforces[force_name](protein)\n",
    "        print(force.getNumExclusions())\n",
    "        open3SPN2.addNonBondedExclusions(dna,force)\n",
    "        print(force.getNumExclusions())\n",
    "        #continue\n",
    "    else:\n",
    "        force = openAWSEMforces[force_name](protein)\n",
    "    s.addForce(force)\n",
    "    forces.update({force_name: force})"
   ]
  },
  {
   "cell_type": "code",
   "execution_count": 14,
   "metadata": {},
   "outputs": [
    {
     "name": "stdout",
     "output_type": "stream",
     "text": [
      "-1175.1664712728998\n"
     ]
    }
   ],
   "source": [
    "# Set up the simulation\n",
    "temperature=300 * simtk.openmm.unit.kelvin\n",
    "platform_name='CPU' #'Reference','CPU','CUDA', 'OpenCL'\n",
    "\n",
    "integrator = simtk.openmm.LangevinIntegrator(temperature, 1 / simtk.openmm.unit.picosecond, 2 * simtk.openmm.unit.femtoseconds)\n",
    "platform = simtk.openmm.Platform.getPlatformByName(platform_name)\n",
    "simulation = simtk.openmm.app.Simulation(top,s, integrator, platform)\n",
    "simulation.context.setPositions(coord)\n",
    "energy_unit=simtk.openmm.unit.kilojoule_per_mole\n",
    "state = simulation.context.getState(getEnergy=True)\n",
    "energy = state.getPotentialEnergy().value_in_unit(energy_unit)\n",
    "print(energy)"
   ]
  },
  {
   "cell_type": "code",
   "execution_count": 15,
   "metadata": {},
   "outputs": [
    {
     "name": "stdout",
     "output_type": "stream",
     "text": [
      "TotalEnergy -1175.166472 kJ/mol\n",
      "Bond 74.775959 kJ/mol\n",
      "Angle 955.948472 kJ/mol\n",
      "Stacking 203.567443 kJ/mol\n",
      "Dihedral -390.606305 kJ/mol\n",
      "BasePair -284.232239 kJ/mol\n",
      "CrossStacking -47.586156 kJ/mol\n",
      "Exclusion 23.99156 kJ/mol\n",
      "Electrostatics 23.268273 kJ/mol\n",
      "ExclusionProteinDNA 296.033548 kJ/mol\n",
      "ElectrostaticsProteinDNA -10.459808 kJ/mol\n",
      "Connectivity 1899.298172 kJ/mol\n",
      "Chain 1899.298172 kJ/mol\n",
      "Chi 1899.298172 kJ/mol\n",
      "Excl 1899.298172 kJ/mol\n",
      "rama -1363.522589 kJ/mol\n",
      "rama_pro -1363.522589 kJ/mol\n",
      "contact -1041.547712 kJ/mol\n",
      "frag -1213.298352 kJ/mol\n",
      "beta1 -300.79674 kJ/mol\n",
      "beta2 -300.79674 kJ/mol\n",
      "beta3 -300.79674 kJ/mol\n",
      "pap1 -0.0 kJ/mol\n",
      "pap2 -0.0 kJ/mol\n"
     ]
    }
   ],
   "source": [
    "#Obtain total energy\n",
    "\n",
    "energy_unit=simtk.openmm.unit.kilojoule_per_mole\n",
    "state = simulation.context.getState(getEnergy=True)\n",
    "energy = state.getPotentialEnergy().value_in_unit(energy_unit)\n",
    "print('TotalEnergy',round(energy,6),energy_unit.get_symbol())\n",
    "\n",
    "#Obtain detailed energy\n",
    "\n",
    "energies = {}\n",
    "for force_name, force in forces.items():\n",
    "    group=force.getForceGroup()\n",
    "    state = simulation.context.getState(getEnergy=True, groups=2**group)\n",
    "    energies[force_name] =state.getPotentialEnergy().value_in_unit(energy_unit)\n",
    "\n",
    "for force_name in forces.keys():\n",
    "    print(force_name, round(energies[force_name],6),energy_unit.get_symbol())"
   ]
  },
  {
   "cell_type": "code",
   "execution_count": 16,
   "metadata": {},
   "outputs": [],
   "source": [
    "#Add simulation reporters\n",
    "dcd_reporter=simtk.openmm.app.DCDReporter(f'output.dcd', 100)\n",
    "energy_reporter=simtk.openmm.app.StateDataReporter(sys.stdout, 100, step=True,time=True,\n",
    "                                                   potentialEnergy=True, temperature=True)\n",
    "simulation.reporters.append(dcd_reporter)\n",
    "simulation.reporters.append(energy_reporter)"
   ]
  },
  {
   "cell_type": "code",
   "execution_count": 17,
   "metadata": {},
   "outputs": [
    {
     "name": "stdout",
     "output_type": "stream",
     "text": [
      "#\"Step\",\"Time (ps)\",\"Potential Energy (kJ/mole)\",\"Temperature (K)\"\n",
      "100,0.20000000000000015,-4258.066062009481,163.6090344518113\n",
      "200,0.4000000000000003,-4281.310173879332,212.45590263019517\n",
      "300,0.6000000000000004,-4051.788518356684,223.2317554174403\n",
      "400,0.8000000000000006,-3887.6592621312525,239.12095717626514\n",
      "500,1.0000000000000007,-3865.353036820357,254.15091020550213\n",
      "600,1.2000000000000008,-3721.8066221062236,252.1347424683077\n",
      "700,1.400000000000001,-3769.7908515537674,270.0368792957282\n",
      "800,1.6000000000000012,-3637.1104186820858,279.71085968781546\n",
      "900,1.8000000000000014,-3594.506567345247,276.5867900632899\n",
      "1000,2.0000000000000013,-3604.3429273586794,291.8782855428124\n"
     ]
    }
   ],
   "source": [
    "#Run simulation\n",
    "simulation.minimizeEnergy()\n",
    "simulation.context.setVelocitiesToTemperature(temperature)\n",
    "simulation.step(1000)"
   ]
  },
  {
   "cell_type": "code",
   "execution_count": 18,
   "metadata": {},
   "outputs": [
    {
     "name": "stdout",
     "output_type": "stream",
     "text": [
      "Bond 49.793502 kJ/mol\n",
      "Angle 152.622548 kJ/mol\n",
      "Stacking -410.943295 kJ/mol\n",
      "Dihedral -461.214464 kJ/mol\n",
      "BasePair -255.078782 kJ/mol\n",
      "CrossStacking -51.577745 kJ/mol\n",
      "Exclusion 0.699193 kJ/mol\n",
      "Electrostatics 23.458813 kJ/mol\n",
      "ExclusionProteinDNA -23.058345 kJ/mol\n",
      "ElectrostaticsProteinDNA -11.928655 kJ/mol\n",
      "Connectivity 1416.36526 kJ/mol\n",
      "Chain 1416.36526 kJ/mol\n",
      "Chi 1416.36526 kJ/mol\n",
      "Excl 1416.36526 kJ/mol\n",
      "rama -1510.099121 kJ/mol\n",
      "rama_pro -1510.099121 kJ/mol\n",
      "contact -1301.331233 kJ/mol\n",
      "frag -1020.897119 kJ/mol\n",
      "beta1 -201.153483 kJ/mol\n",
      "beta2 -201.153483 kJ/mol\n",
      "beta3 -201.153483 kJ/mol\n",
      "pap1 -0.0 kJ/mol\n",
      "pap2 -0.0 kJ/mol\n"
     ]
    }
   ],
   "source": [
    "#Get the detailed energy after the simulation\n",
    "energies = {}\n",
    "for force_name, force in forces.items():\n",
    "    group=force.getForceGroup()\n",
    "    state = simulation.context.getState(getEnergy=True, groups=2**group)\n",
    "    energies[force_name] =state.getPotentialEnergy().value_in_unit(energy_unit)\n",
    "\n",
    "for force_name in forces.keys():\n",
    "    print(force_name, round(energies[force_name],6),energy_unit.get_symbol())"
   ]
  }
 ],
 "metadata": {
  "kernelspec": {
   "display_name": "Python 3",
   "language": "python",
   "name": "python3"
  },
  "language_info": {
   "codemirror_mode": {
    "name": "ipython",
    "version": 3
   },
   "file_extension": ".py",
   "mimetype": "text/x-python",
   "name": "python",
   "nbconvert_exporter": "python",
   "pygments_lexer": "ipython3",
   "version": "3.8.10"
  }
 },
 "nbformat": 4,
 "nbformat_minor": 4
}
